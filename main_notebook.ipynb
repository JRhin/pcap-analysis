{
 "cells": [
  {
   "cell_type": "markdown",
   "id": "3f3bbfb0-d4e0-4735-98f4-18e0958e2e09",
   "metadata": {},
   "source": [
    "# NBD Lab Project"
   ]
  },
  {
   "cell_type": "markdown",
   "id": "b632e513-9867-4488-843d-dee1eadc2a32",
   "metadata": {},
   "source": [
    "## Install all the needed pip dependencies"
   ]
  },
  {
   "cell_type": "code",
   "execution_count": 77,
   "id": "f3ee3702-de8a-45b7-81ca-4a9b67c86881",
   "metadata": {},
   "outputs": [],
   "source": [
    "%%capture\n",
    "!pip install -r requirements.txt"
   ]
  },
  {
   "cell_type": "markdown",
   "id": "9f07c53b-671c-4e0a-bb54-e8cdb3be3c51",
   "metadata": {},
   "source": [
    "## Importing the needed libraries"
   ]
  },
  {
   "cell_type": "code",
   "execution_count": 1,
   "id": "c2dd4bce-fb8f-46f8-9793-66bbafcbf6d9",
   "metadata": {},
   "outputs": [],
   "source": [
    "import polars as pl\n",
    "import pandas as pd\n",
    "from pathlib import Path\n",
    "\n",
    "import numpy as np\n",
    "\n",
    "import seaborn as sns\n",
    "import matplotlib.pyplot as plt"
   ]
  },
  {
   "cell_type": "markdown",
   "id": "4f7af39b-f43b-4fd9-acce-68b9ff524969",
   "metadata": {},
   "source": [
    "## Setting the needed paths"
   ]
  },
  {
   "cell_type": "code",
   "execution_count": 2,
   "id": "f90d3b8b-cdbf-41fe-96c0-096ed4fe9494",
   "metadata": {},
   "outputs": [],
   "source": [
    "current_path = Path('.')\n",
    "data_path = current_path/'data'\n",
    "pcap_path = data_path/'pcap.parquet'"
   ]
  },
  {
   "cell_type": "markdown",
   "id": "2f86eac4-592f-418c-b0ff-a2f78dafc59c",
   "metadata": {},
   "source": [
    "## 1) Extract general info from your trace using capinfos"
   ]
  },
  {
   "cell_type": "code",
   "execution_count": 3,
   "id": "7675b6fa-5b49-43e1-951d-225698d37b25",
   "metadata": {},
   "outputs": [
    {
     "name": "stdout",
     "output_type": "stream",
     "text": [
      "=================================================================\n",
      "Getting capture infos about data/data_00000_20190410070000.pcap\n",
      "=================================================================\n",
      "\n",
      "Number of packets  in the capture:\n",
      "-----------------------------------------------------------------\n",
      "File name:           data/data_00000_20190410070000.pcap\n",
      "Packet size limit:   inferred: 34 bytes - 96 bytes (range)\n",
      "Number of packets:   5,000 k\n",
      "\n",
      "\n",
      "The average data reate in bits/sec:\n",
      "-----------------------------------------------------------------\n",
      "File name:           data/data_00000_20190410070000.pcap\n",
      "Packet size limit:   inferred: 34 bytes - 96 bytes (range)\n",
      "Data bit rate:       2,729 Mbps\n",
      "\n",
      "\n",
      "The average packet size:\n",
      "-----------------------------------------------------------------\n",
      "File name:           data/data_00000_20190410070000.pcap\n",
      "Packet size limit:   inferred: 34 bytes - 96 bytes (range)\n",
      "Average packet size: 1198.22 bytes\n",
      "\n",
      "\n",
      "General all infos:\n",
      "-----------------------------------------------------------------\n",
      "File name:           data/data_00000_20190410070000.pcap\n",
      "File type:           Wireshark/... - pcapng\n",
      "File encapsulation:  Ethernet\n",
      "File timestamp precision:  microseconds (6)\n",
      "Packet size limit:   file hdr: (not set)\n",
      "Packet size limit:   inferred: 34 bytes - 96 bytes (range)\n",
      "Number of packets:   5,000 k\n",
      "File size:           490 MB\n",
      "Data size:           5,991 MB\n",
      "Capture duration:    17.557630 seconds\n",
      "First packet time:   2019-04-10 07:00:00.056001\n",
      "Last packet time:    2019-04-10 07:00:17.613631\n",
      "Data byte rate:      341 MBps\n",
      "Data bit rate:       2,729 Mbps\n",
      "Average packet size: 1198.22 bytes\n",
      "Average packet rate: 284 kpackets/s\n",
      "SHA256:              17c90cad2fbbde982d4285e4698e2ed6c88999955861894385a1613a7b7997a3\n",
      "RIPEMD160:           fc1047598207dfb1e98c2b720f6a30ae31287066\n",
      "SHA1:                968263edd2013c098fa12f906233edb7d3aa1705\n",
      "Strict time order:   False\n",
      "Capture application: Editcap (Wireshark) 3.4.2 (Git v3.4.2 packaged as 3.4.2-1~ubuntu16.04.0+wiresharkdevstable1)\n",
      "Number of interfaces in file: 1\n",
      "Interface #0 info:\n",
      "                     Encapsulation = Ethernet (1 - ether)\n",
      "                     Capture length = 96\n",
      "                     Time precision = microseconds (6)\n",
      "                     Time ticks per second = 1000000\n",
      "                     Number of stat entries = 0\n",
      "                     Number of packets = 5000000\n",
      "\n",
      "\n",
      "Generating a capinfos.csv in the current directory...\n",
      "Displaying the csv:\n",
      "-----------------------------------------------------------------\n",
      "shape: (25, 2)\n",
      "┌─────────────────────┬───────────────────────────────────┐\n",
      "│ Info                ┆ Value                             │\n",
      "│ ---                 ┆ ---                               │\n",
      "│ str                 ┆ str                               │\n",
      "╞═════════════════════╪═══════════════════════════════════╡\n",
      "│ File name           ┆ data/data_00000_20190410070000.p… │\n",
      "│ File type           ┆ pcapng                            │\n",
      "│ File encapsulation  ┆ ether                             │\n",
      "│ File time precision ┆ microseconds                      │\n",
      "│ …                   ┆ …                                 │\n",
      "│ Capture hardware    ┆                                   │\n",
      "│ Capture oper-sys    ┆                                   │\n",
      "│ Capture application ┆ Editcap (Wireshark) 3.4.2 (Git v… │\n",
      "│ Capture comment     ┆                                   │\n",
      "└─────────────────────┴───────────────────────────────────┘\n",
      "=================================================================\n",
      "\n",
      "\n",
      "\n"
     ]
    }
   ],
   "source": [
    "!python src/capinfos.py"
   ]
  },
  {
   "cell_type": "code",
   "execution_count": 4,
   "id": "d32ea711-a1ad-467a-9b9a-bca33acc7ee7",
   "metadata": {},
   "outputs": [
    {
     "data": {
      "text/html": [
       "<div><style>\n",
       ".dataframe > thead > tr > th,\n",
       ".dataframe > tbody > tr > td {\n",
       "  text-align: right;\n",
       "}\n",
       "</style>\n",
       "<small>shape: (1, 25)</small><table border=\"1\" class=\"dataframe\"><thead><tr><th>File name</th><th>File type</th><th>File encapsulation</th><th>File time precision</th><th>Packet size limit</th><th>Packet size limit min (inferred)</th><th>Packet size limit max (inferred)</th><th>Number of packets</th><th>File size (bytes)</th><th>Data size (bytes)</th><th>Capture duration (seconds)</th><th>Start time</th><th>End time</th><th>Data byte rate (bytes/sec)</th><th>Data bit rate (bits/sec)</th><th>Average packet size (bytes)</th><th>Average packet rate (packets/sec)</th><th>SHA256</th><th>RIPEMD160</th><th>SHA1</th><th>Strict time order</th><th>Capture hardware</th><th>Capture oper-sys</th><th>Capture application</th><th>Capture comment</th></tr><tr><td>str</td><td>str</td><td>str</td><td>str</td><td>str</td><td>i64</td><td>i64</td><td>i64</td><td>i64</td><td>i64</td><td>f64</td><td>str</td><td>str</td><td>f64</td><td>f64</td><td>f64</td><td>f64</td><td>str</td><td>str</td><td>str</td><td>bool</td><td>str</td><td>str</td><td>str</td><td>str</td></tr></thead><tbody><tr><td>&quot;data/data_0000…</td><td>&quot;pcapng&quot;</td><td>&quot;ether&quot;</td><td>&quot;microseconds&quot;</td><td>&quot;(not set)&quot;</td><td>34</td><td>96</td><td>5000000</td><td>490189160</td><td>5991123026</td><td>17.55763</td><td>&quot;2019-04-10 07:…</td><td>&quot;2019-04-10 07:…</td><td>3.4123e8</td><td>2.7298e9</td><td>1198.22</td><td>284776.48</td><td>&quot;17c90cad2fbbde…</td><td>&quot;fc1047598207df…</td><td>&quot;968263edd2013c…</td><td>false</td><td>&quot;&quot;</td><td>&quot;&quot;</td><td>&quot;Editcap (Wires…</td><td>&quot;&quot;</td></tr></tbody></table></div>"
      ],
      "text/plain": [
       "shape: (1, 25)\n",
       "┌─────────┬──────┬────────────┬────────────┬───┬────────────┬────────────┬────────────┬────────────┐\n",
       "│ File    ┆ File ┆ File encap ┆ File time  ┆ … ┆ Capture    ┆ Capture    ┆ Capture    ┆ Capture    │\n",
       "│ name    ┆ type ┆ sulation   ┆ precision  ┆   ┆ hardware   ┆ oper-sys   ┆ applicatio ┆ comment    │\n",
       "│ ---     ┆ ---  ┆ ---        ┆ ---        ┆   ┆ ---        ┆ ---        ┆ n          ┆ ---        │\n",
       "│ str     ┆ str  ┆ str        ┆ str        ┆   ┆ str        ┆ str        ┆ ---        ┆ str        │\n",
       "│         ┆      ┆            ┆            ┆   ┆            ┆            ┆ str        ┆            │\n",
       "╞═════════╪══════╪════════════╪════════════╪═══╪════════════╪════════════╪════════════╪════════════╡\n",
       "│ data/da ┆ pcap ┆ ether      ┆ microsecon ┆ … ┆            ┆            ┆ Editcap    ┆            │\n",
       "│ ta_0000 ┆ ng   ┆            ┆ ds         ┆   ┆            ┆            ┆ (Wireshark ┆            │\n",
       "│ 0_20190 ┆      ┆            ┆            ┆   ┆            ┆            ┆ ) 3.4.2    ┆            │\n",
       "│ 4100700 ┆      ┆            ┆            ┆   ┆            ┆            ┆ (Git v…    ┆            │\n",
       "│ 00.p…   ┆      ┆            ┆            ┆   ┆            ┆            ┆            ┆            │\n",
       "└─────────┴──────┴────────────┴────────────┴───┴────────────┴────────────┴────────────┴────────────┘"
      ]
     },
     "metadata": {},
     "output_type": "display_data"
    }
   ],
   "source": [
    "display(pl.read_csv(data_path/'capinfos.csv'))"
   ]
  },
  {
   "cell_type": "markdown",
   "id": "9c3c6f12-ec95-4faf-9b47-567ff711b089",
   "metadata": {},
   "source": [
    "## 2) Time Evaluation between Sequential and Parallel reading"
   ]
  },
  {
   "cell_type": "markdown",
   "id": "5a7c9259-f291-4867-9bbf-344064289704",
   "metadata": {},
   "source": [
    "For solving this question we have written a specific script `extract_packets.py`, which can be found in the `src/` folder.\n",
    "\n",
    "Because we have used the [joblib.Parallel()](https://joblib.readthedocs.io/en/latest/generated/joblib.Parallel.html) framework our script is able to perform both sequential and parallel reading.\n",
    "\n",
    "#### Sequential Reading\n",
    "\n",
    "To perform a sequential reading, in a terminal from the root folder run:\n",
    "\n",
    "```bash\n",
    "python src/extract_packets.py -j 1\n",
    "```\n",
    "\n",
    "The `-j` argument set to 1 will tell `Parallel` to use only 1 worker, resulting in a sequential run.\n",
    "\n",
    "#### Parallel Reading\n",
    "\n",
    "To use all the available workes just run in a terminal from the root folder.\n",
    "\n",
    "```bash\n",
    "python src/extract_packets.py\n",
    "```\n",
    "\n",
    "If you want to use a specific number of workers just set `-j` accordingly (e.g. `-j 4` to use 4 workers).\n",
    "\n",
    "### Results on the entire pcap (5M of packets)\n",
    "\n",
    "|Type of Reading| Time (seconds)|Time (minutes)|\n",
    "|-------------------|------|-------------|\n",
    "|Sequential Reading|12410.356|206.84|\n",
    "|Parallel Reading|11692.876|194.88|\n",
    "\n",
    "> These results were obtained using a *12th Gen Intel i5-1235U (12) @ 4.400GHz* CPU and using all the available workers (12) for Parallel reading."
   ]
  },
  {
   "cell_type": "markdown",
   "id": "fa5dfc6e-56ec-4eac-858c-e42cc4c5f339",
   "metadata": {},
   "source": [
    "## Read the parquet file and get the 1M sample"
   ]
  },
  {
   "cell_type": "code",
   "execution_count": 19,
   "id": "b5fa5d8c-7ef8-4f87-8b63-0536b38f1c10",
   "metadata": {},
   "outputs": [],
   "source": [
    "n = 1_000_000\n",
    "seed = 42\n",
    "df = pl.read_parquet(pcap_path).sample(n=n, seed=seed)"
   ]
  },
  {
   "cell_type": "code",
   "execution_count": 6,
   "id": "4c4941ae-50de-4b7a-a295-9d8020d46a53",
   "metadata": {},
   "outputs": [
    {
     "data": {
      "text/html": [
       "<div><style>\n",
       ".dataframe > thead > tr > th,\n",
       ".dataframe > tbody > tr > td {\n",
       "  text-align: right;\n",
       "}\n",
       "</style>\n",
       "<small>shape: (1_000_000, 16)</small><table border=\"1\" class=\"dataframe\"><thead><tr><th>dsfield_dscp</th><th>hdr_len</th><th>dsfield</th><th>dsfield_ecn</th><th>len</th><th>proto</th><th>flags_df</th><th>flags_mf</th><th>flags_rb</th><th>frag_offset</th><th>ttl</th><th>src</th><th>dst</th><th>srcport</th><th>dstport</th><th>sniff_timestamp</th></tr><tr><td>i64</td><td>i64</td><td>i64</td><td>i64</td><td>i64</td><td>i64</td><td>i64</td><td>i64</td><td>i64</td><td>i64</td><td>i64</td><td>str</td><td>str</td><td>i64</td><td>i64</td><td>f64</td></tr></thead><tbody><tr><td>0</td><td>20</td><td>0</td><td>0</td><td>52</td><td>6</td><td>0</td><td>0</td><td>0</td><td>0</td><td>54</td><td>&quot;180.213.208.20…</td><td>&quot;203.122.136.47…</td><td>53480</td><td>80</td><td>1.5549e9</td></tr><tr><td>0</td><td>20</td><td>0</td><td>0</td><td>64</td><td>6</td><td>1</td><td>0</td><td>0</td><td>0</td><td>59</td><td>&quot;202.7.172.153&quot;</td><td>&quot;162.242.40.3&quot;</td><td>50472</td><td>443</td><td>1.5549e9</td></tr><tr><td>0</td><td>20</td><td>0</td><td>0</td><td>141</td><td>17</td><td>0</td><td>0</td><td>0</td><td>0</td><td>58</td><td>&quot;150.57.190.76&quot;</td><td>&quot;155.70.48.196&quot;</td><td>50821</td><td>27023</td><td>1.5549e9</td></tr><tr><td>0</td><td>20</td><td>0</td><td>0</td><td>234</td><td>6</td><td>0</td><td>0</td><td>0</td><td>0</td><td>124</td><td>&quot;216.116.245.17…</td><td>&quot;131.137.49.212…</td><td>443</td><td>55950</td><td>1.5549e9</td></tr><tr><td>0</td><td>20</td><td>0</td><td>0</td><td>95</td><td>17</td><td>1</td><td>0</td><td>0</td><td>0</td><td>57</td><td>&quot;23.53.35.140&quot;</td><td>&quot;131.137.126.25…</td><td>53</td><td>48350</td><td>1.5549e9</td></tr><tr><td>0</td><td>20</td><td>0</td><td>0</td><td>1420</td><td>6</td><td>1</td><td>0</td><td>0</td><td>0</td><td>56</td><td>&quot;150.57.136.251…</td><td>&quot;221.244.225.17…</td><td>80</td><td>64918</td><td>1.5549e9</td></tr><tr><td>0</td><td>20</td><td>0</td><td>0</td><td>1420</td><td>6</td><td>1</td><td>0</td><td>0</td><td>0</td><td>56</td><td>&quot;150.57.136.251…</td><td>&quot;221.244.225.17…</td><td>80</td><td>64918</td><td>1.5549e9</td></tr><tr><td>0</td><td>20</td><td>0</td><td>0</td><td>1500</td><td>6</td><td>1</td><td>0</td><td>0</td><td>0</td><td>56</td><td>&quot;150.57.136.251…</td><td>&quot;39.18.205.141&quot;</td><td>80</td><td>64480</td><td>1.5549e9</td></tr><tr><td>0</td><td>20</td><td>0</td><td>0</td><td>1454</td><td>6</td><td>1</td><td>0</td><td>0</td><td>0</td><td>61</td><td>&quot;203.122.131.14…</td><td>&quot;122.9.35.9&quot;</td><td>80</td><td>63963</td><td>1.5549e9</td></tr><tr><td>0</td><td>20</td><td>0</td><td>0</td><td>1454</td><td>6</td><td>1</td><td>0</td><td>0</td><td>0</td><td>58</td><td>&quot;150.57.242.48&quot;</td><td>&quot;61.51.50.67&quot;</td><td>8080</td><td>35950</td><td>1.5549e9</td></tr><tr><td>0</td><td>20</td><td>0</td><td>0</td><td>1454</td><td>6</td><td>1</td><td>0</td><td>0</td><td>0</td><td>58</td><td>&quot;150.57.242.48&quot;</td><td>&quot;61.51.50.67&quot;</td><td>8080</td><td>35992</td><td>1.5549e9</td></tr><tr><td>0</td><td>20</td><td>0</td><td>0</td><td>5660</td><td>6</td><td>1</td><td>0</td><td>0</td><td>0</td><td>58</td><td>&quot;150.57.242.48&quot;</td><td>&quot;180.251.211.15…</td><td>8080</td><td>46485</td><td>1.5549e9</td></tr><tr><td>&hellip;</td><td>&hellip;</td><td>&hellip;</td><td>&hellip;</td><td>&hellip;</td><td>&hellip;</td><td>&hellip;</td><td>&hellip;</td><td>&hellip;</td><td>&hellip;</td><td>&hellip;</td><td>&hellip;</td><td>&hellip;</td><td>&hellip;</td><td>&hellip;</td><td>&hellip;</td></tr><tr><td>0</td><td>20</td><td>0</td><td>0</td><td>141</td><td>6</td><td>1</td><td>0</td><td>0</td><td>0</td><td>58</td><td>&quot;211.178.26.3&quot;</td><td>&quot;163.215.134.10…</td><td>443</td><td>4111</td><td>1.5549e9</td></tr><tr><td>0</td><td>20</td><td>0</td><td>0</td><td>1426</td><td>6</td><td>1</td><td>0</td><td>0</td><td>0</td><td>57</td><td>&quot;163.222.125.18…</td><td>&quot;17.8.157.119&quot;</td><td>55915</td><td>443</td><td>1.5549e9</td></tr><tr><td>0</td><td>20</td><td>0</td><td>0</td><td>1500</td><td>6</td><td>1</td><td>0</td><td>0</td><td>0</td><td>58</td><td>&quot;150.57.242.48&quot;</td><td>&quot;221.5.73.197&quot;</td><td>8080</td><td>15323</td><td>1.5549e9</td></tr><tr><td>0</td><td>20</td><td>0</td><td>0</td><td>52</td><td>6</td><td>1</td><td>0</td><td>0</td><td>0</td><td>60</td><td>&quot;202.7.174.242&quot;</td><td>&quot;173.195.200.72…</td><td>59105</td><td>443</td><td>1.5549e9</td></tr><tr><td>0</td><td>20</td><td>0</td><td>0</td><td>1454</td><td>6</td><td>1</td><td>0</td><td>0</td><td>0</td><td>56</td><td>&quot;150.57.136.251…</td><td>&quot;202.30.144.7&quot;</td><td>80</td><td>63553</td><td>1.5549e9</td></tr><tr><td>0</td><td>20</td><td>0</td><td>0</td><td>32</td><td>1</td><td>1</td><td>0</td><td>0</td><td>0</td><td>60</td><td>&quot;203.122.146.18…</td><td>&quot;172.64.44.229&quot;</td><td>-1</td><td>-1</td><td>1.5549e9</td></tr><tr><td>0</td><td>20</td><td>0</td><td>0</td><td>2469</td><td>6</td><td>1</td><td>0</td><td>0</td><td>0</td><td>56</td><td>&quot;150.57.136.251…</td><td>&quot;222.127.201.52…</td><td>80</td><td>62620</td><td>1.5549e9</td></tr><tr><td>0</td><td>20</td><td>0</td><td>0</td><td>52</td><td>6</td><td>1</td><td>0</td><td>0</td><td>0</td><td>60</td><td>&quot;202.7.174.242&quot;</td><td>&quot;31.242.146.12&quot;</td><td>37896</td><td>443</td><td>1.5549e9</td></tr><tr><td>0</td><td>20</td><td>0</td><td>0</td><td>32</td><td>1</td><td>1</td><td>0</td><td>0</td><td>0</td><td>60</td><td>&quot;203.122.146.18…</td><td>&quot;101.140.19.4&quot;</td><td>-1</td><td>-1</td><td>1.5549e9</td></tr><tr><td>0</td><td>20</td><td>0</td><td>0</td><td>1400</td><td>6</td><td>1</td><td>0</td><td>0</td><td>0</td><td>56</td><td>&quot;150.57.136.251…</td><td>&quot;106.65.74.199&quot;</td><td>80</td><td>55683</td><td>1.5549e9</td></tr><tr><td>0</td><td>20</td><td>0</td><td>0</td><td>2996</td><td>6</td><td>1</td><td>0</td><td>0</td><td>0</td><td>56</td><td>&quot;150.57.136.251…</td><td>&quot;115.181.56.11&quot;</td><td>80</td><td>44197</td><td>1.5549e9</td></tr><tr><td>0</td><td>20</td><td>0</td><td>0</td><td>1454</td><td>6</td><td>1</td><td>0</td><td>0</td><td>0</td><td>56</td><td>&quot;150.57.136.251…</td><td>&quot;153.153.206.19…</td><td>80</td><td>51829</td><td>1.5549e9</td></tr></tbody></table></div>"
      ],
      "text/plain": [
       "shape: (1_000_000, 16)\n",
       "┌────────────┬─────────┬─────────┬──────────────┬───┬─────────────┬─────────┬─────────┬────────────┐\n",
       "│ dsfield_ds ┆ hdr_len ┆ dsfield ┆ dsfield_ecn  ┆ … ┆ dst         ┆ srcport ┆ dstport ┆ sniff_time │\n",
       "│ cp         ┆ ---     ┆ ---     ┆ ---          ┆   ┆ ---         ┆ ---     ┆ ---     ┆ stamp      │\n",
       "│ ---        ┆ i64     ┆ i64     ┆ i64          ┆   ┆ str         ┆ i64     ┆ i64     ┆ ---        │\n",
       "│ i64        ┆         ┆         ┆              ┆   ┆             ┆         ┆         ┆ f64        │\n",
       "╞════════════╪═════════╪═════════╪══════════════╪═══╪═════════════╪═════════╪═════════╪════════════╡\n",
       "│ 0          ┆ 20      ┆ 0       ┆ 0            ┆ … ┆ 203.122.136 ┆ 53480   ┆ 80      ┆ 1.5549e9   │\n",
       "│            ┆         ┆         ┆              ┆   ┆ .47         ┆         ┆         ┆            │\n",
       "│ 0          ┆ 20      ┆ 0       ┆ 0            ┆ … ┆ 162.242.40. ┆ 50472   ┆ 443     ┆ 1.5549e9   │\n",
       "│            ┆         ┆         ┆              ┆   ┆ 3           ┆         ┆         ┆            │\n",
       "│ 0          ┆ 20      ┆ 0       ┆ 0            ┆ … ┆ 155.70.48.1 ┆ 50821   ┆ 27023   ┆ 1.5549e9   │\n",
       "│            ┆         ┆         ┆              ┆   ┆ 96          ┆         ┆         ┆            │\n",
       "│ 0          ┆ 20      ┆ 0       ┆ 0            ┆ … ┆ 131.137.49. ┆ 443     ┆ 55950   ┆ 1.5549e9   │\n",
       "│            ┆         ┆         ┆              ┆   ┆ 212         ┆         ┆         ┆            │\n",
       "│ …          ┆ …       ┆ …       ┆ …            ┆ … ┆ …           ┆ …       ┆ …       ┆ …          │\n",
       "│ 0          ┆ 20      ┆ 0       ┆ 0            ┆ … ┆ 101.140.19. ┆ -1      ┆ -1      ┆ 1.5549e9   │\n",
       "│            ┆         ┆         ┆              ┆   ┆ 4           ┆         ┆         ┆            │\n",
       "│ 0          ┆ 20      ┆ 0       ┆ 0            ┆ … ┆ 106.65.74.1 ┆ 80      ┆ 55683   ┆ 1.5549e9   │\n",
       "│            ┆         ┆         ┆              ┆   ┆ 99          ┆         ┆         ┆            │\n",
       "│ 0          ┆ 20      ┆ 0       ┆ 0            ┆ … ┆ 115.181.56. ┆ 80      ┆ 44197   ┆ 1.5549e9   │\n",
       "│            ┆         ┆         ┆              ┆   ┆ 11          ┆         ┆         ┆            │\n",
       "│ 0          ┆ 20      ┆ 0       ┆ 0            ┆ … ┆ 153.153.206 ┆ 80      ┆ 51829   ┆ 1.5549e9   │\n",
       "│            ┆         ┆         ┆              ┆   ┆ .192        ┆         ┆         ┆            │\n",
       "└────────────┴─────────┴─────────┴──────────────┴───┴─────────────┴─────────┴─────────┴────────────┘"
      ]
     },
     "metadata": {},
     "output_type": "display_data"
    }
   ],
   "source": [
    "display(df)"
   ]
  },
  {
   "cell_type": "markdown",
   "id": "9a44ddd6-8420-485c-954b-2ea1fe015fc5",
   "metadata": {},
   "source": [
    "## 3) Extract the IP which generates the highest amount of sender traffic, evaluate the bit rate (0.1 sec) for the 6 IP addresses mostly used as endpoint"
   ]
  },
  {
   "cell_type": "code",
   "execution_count": 65,
   "id": "037162c6-97c1-4181-a656-379597e68e71",
   "metadata": {},
   "outputs": [],
   "source": [
    "def bit_rate():\n",
    "    ..."
   ]
  },
  {
   "cell_type": "code",
   "execution_count": 120,
   "id": "600b6efa-a30e-48cf-a3a5-6f408689634c",
   "metadata": {},
   "outputs": [],
   "source": [
    "\n",
    "def bitRate(data, step_sec = 1):\n",
    "    start = data.iloc[0][\"sniff_timestamp\"]\n",
    "    finish = data.iloc[-1][\"sniff_timestamp\"]\n",
    "    print(\"Start: \",start)\n",
    "    print(\"Finish: \",finish)\n",
    "    \n",
    "    \n",
    "    data[\"sniff_timestamp\"] -= data.iloc[0][\"sniff_timestamp\"]\n",
    "    start = data.iloc[0][\"sniff_timestamp\"]\n",
    "    finish = data.iloc[-1][\"sniff_timestamp\"]\n",
    "    \n",
    "    print(\"Start: \",start)\n",
    "    print(\"Finish: \",finish)\n",
    "    \n",
    "    step = finish/ step_sec\n",
    "    finish = start + step_sec\n",
    "    value = []\n",
    "    print(step)\n",
    "    for i in range(int(step)):\n",
    "    \n",
    "        #From Byte to bit - selection of the time interval between the start and the end of a single time slot\n",
    "        #print(data[(data[\"sniff_timestamp\"]>=start) & (data[\"sniff_timestamp\"]<finish)])\n",
    "        val = np.sum(data[(data[\"sniff_timestamp\"]>=start) & (data[\"sniff_timestamp\"]<finish)][\"len\"]*8)\n",
    "        if not np.isnan(val):\n",
    "            value.append(val/step_sec)\n",
    "        start = finish \n",
    "        finish = start + step_sec\n",
    "\n",
    "    print(len(value))\n",
    "        \n",
    "    return value#, data\n",
    "\n"
   ]
  },
  {
   "cell_type": "code",
   "execution_count": 121,
   "id": "069053b0-623c-47df-8681-f25354779985",
   "metadata": {},
   "outputs": [
    {
     "name": "stdout",
     "output_type": "stream",
     "text": [
      "Start:  1554872403.385683\n",
      "Finish:  1554872416.75434\n",
      "Start:  0.0\n",
      "Finish:  13.368656873703003\n",
      "13.368656873703003\n",
      "13\n"
     ]
    },
    {
     "data": {
      "text/plain": [
       "[736.0,\n",
       " 0.0,\n",
       " 0.0,\n",
       " 0.0,\n",
       " 0.0,\n",
       " 0.0,\n",
       " 0.0,\n",
       " 416.0,\n",
       " 11504.0,\n",
       " 12416.0,\n",
       " 320.0,\n",
       " 12000.0,\n",
       " 0.0]"
      ]
     },
     "execution_count": 121,
     "metadata": {},
     "output_type": "execute_result"
    }
   ],
   "source": [
    "bitRate(df.sample(n=10, seed=seed).sort(by=\"sniff_timestamp\").to_pandas())"
   ]
  },
  {
   "cell_type": "code",
   "execution_count": 7,
   "id": "138dea0e-2bcd-4830-b517-314482379380",
   "metadata": {},
   "outputs": [
    {
     "data": {
      "text/html": [
       "<div><style>\n",
       ".dataframe > thead > tr > th,\n",
       ".dataframe > tbody > tr > td {\n",
       "  text-align: right;\n",
       "}\n",
       "</style>\n",
       "<small>shape: (6, 1)</small><table border=\"1\" class=\"dataframe\"><thead><tr><th>dst</th></tr><tr><td>str</td></tr></thead><tbody><tr><td>&quot;66.132.46.70&quot;</td></tr><tr><td>&quot;115.181.56.11&quot;</td></tr><tr><td>&quot;153.153.206.192&quot;</td></tr><tr><td>&quot;221.244.225.179&quot;</td></tr><tr><td>&quot;60.160.157.207&quot;</td></tr><tr><td>&quot;39.18.205.141&quot;</td></tr></tbody></table></div>"
      ],
      "text/plain": [
       "shape: (6, 1)\n",
       "┌─────────────────┐\n",
       "│ dst             │\n",
       "│ ---             │\n",
       "│ str             │\n",
       "╞═════════════════╡\n",
       "│ 66.132.46.70    │\n",
       "│ 115.181.56.11   │\n",
       "│ 153.153.206.192 │\n",
       "│ 221.244.225.179 │\n",
       "│ 60.160.157.207  │\n",
       "│ 39.18.205.141   │\n",
       "└─────────────────┘"
      ]
     },
     "metadata": {},
     "output_type": "display_data"
    }
   ],
   "source": [
    "ip_highest_traffic = (df\n",
    "                      .lazy()\n",
    "                      .groupby(by='src')\n",
    "                      .count()\n",
    "                      .sort(by='count', descending=True)).collect().get_column(\"src\")[0]\n",
    "\n",
    "most_used_endpoints = (df\n",
    "                       .lazy()\n",
    "                       .filter(pl.col(\"src\")==ip_highest_traffic)\n",
    "                       .groupby(by=\"dst\")\n",
    "                       .count()\n",
    "                       .sort(by=\"count\", descending=True)\n",
    "                       .head(6)\n",
    "                       .select(pl.col(\"dst\"))).collect()\n",
    "\n",
    "with pl.Config(fmt_str_lengths=20):\n",
    "    display(most_used_endpoints)"
   ]
  },
  {
   "cell_type": "markdown",
   "id": "5f2726b0-7fd7-45b2-a84a-1897fdf73ca3",
   "metadata": {},
   "source": [
    "## 7) 10 Protocol mostly used"
   ]
  },
  {
   "cell_type": "markdown",
   "id": "49f66ee4-4383-4aec-8c9e-576fc787b70d",
   "metadata": {},
   "source": [
    "First of all we retrieve the list of IP protocols with their respective codes, available at the [Internet Assigned Numbers Authority](https://www.iana.org/assignments/protocol-numbers/protocol-numbers.xhtml)."
   ]
  },
  {
   "cell_type": "code",
   "execution_count": 95,
   "id": "34e69dc8-ecb3-43d6-89e1-e1eba841acd0",
   "metadata": {},
   "outputs": [
    {
     "data": {
      "text/html": [
       "<div>\n",
       "<style scoped>\n",
       "    .dataframe tbody tr th:only-of-type {\n",
       "        vertical-align: middle;\n",
       "    }\n",
       "\n",
       "    .dataframe tbody tr th {\n",
       "        vertical-align: top;\n",
       "    }\n",
       "\n",
       "    .dataframe thead th {\n",
       "        text-align: right;\n",
       "    }\n",
       "</style>\n",
       "<table border=\"1\" class=\"dataframe\">\n",
       "  <thead>\n",
       "    <tr style=\"text-align: right;\">\n",
       "      <th></th>\n",
       "      <th>Decimal</th>\n",
       "      <th>Protocol</th>\n",
       "      <th>Keyword</th>\n",
       "    </tr>\n",
       "  </thead>\n",
       "  <tbody>\n",
       "    <tr>\n",
       "      <th>0</th>\n",
       "      <td>0</td>\n",
       "      <td>IPv6 Hop-by-Hop Option</td>\n",
       "      <td>HOPOPT</td>\n",
       "    </tr>\n",
       "    <tr>\n",
       "      <th>1</th>\n",
       "      <td>1</td>\n",
       "      <td>Internet Control Message</td>\n",
       "      <td>ICMP</td>\n",
       "    </tr>\n",
       "    <tr>\n",
       "      <th>2</th>\n",
       "      <td>2</td>\n",
       "      <td>Internet Group Management</td>\n",
       "      <td>IGMP</td>\n",
       "    </tr>\n",
       "    <tr>\n",
       "      <th>3</th>\n",
       "      <td>3</td>\n",
       "      <td>Gateway-to-Gateway</td>\n",
       "      <td>GGP</td>\n",
       "    </tr>\n",
       "    <tr>\n",
       "      <th>4</th>\n",
       "      <td>4</td>\n",
       "      <td>IPv4 encapsulation</td>\n",
       "      <td>IPv4</td>\n",
       "    </tr>\n",
       "    <tr>\n",
       "      <th>...</th>\n",
       "      <td>...</td>\n",
       "      <td>...</td>\n",
       "      <td>...</td>\n",
       "    </tr>\n",
       "    <tr>\n",
       "      <th>145</th>\n",
       "      <td>145</td>\n",
       "      <td>Network Service Header</td>\n",
       "      <td>NSH</td>\n",
       "    </tr>\n",
       "    <tr>\n",
       "      <th>146</th>\n",
       "      <td>146-252</td>\n",
       "      <td>Unassigned</td>\n",
       "      <td>NaN</td>\n",
       "    </tr>\n",
       "    <tr>\n",
       "      <th>147</th>\n",
       "      <td>253</td>\n",
       "      <td>Use for experimentation and testing</td>\n",
       "      <td>NaN</td>\n",
       "    </tr>\n",
       "    <tr>\n",
       "      <th>148</th>\n",
       "      <td>254</td>\n",
       "      <td>Use for experimentation and testing</td>\n",
       "      <td>NaN</td>\n",
       "    </tr>\n",
       "    <tr>\n",
       "      <th>149</th>\n",
       "      <td>255</td>\n",
       "      <td>NaN</td>\n",
       "      <td>Reserved</td>\n",
       "    </tr>\n",
       "  </tbody>\n",
       "</table>\n",
       "<p>150 rows × 3 columns</p>\n",
       "</div>"
      ],
      "text/plain": [
       "     Decimal                             Protocol   Keyword\n",
       "0          0               IPv6 Hop-by-Hop Option    HOPOPT\n",
       "1          1             Internet Control Message      ICMP\n",
       "2          2            Internet Group Management      IGMP\n",
       "3          3                   Gateway-to-Gateway       GGP\n",
       "4          4                   IPv4 encapsulation      IPv4\n",
       "..       ...                                  ...       ...\n",
       "145      145               Network Service Header       NSH\n",
       "146  146-252                           Unassigned       NaN\n",
       "147      253  Use for experimentation and testing       NaN\n",
       "148      254  Use for experimentation and testing       NaN\n",
       "149      255                                  NaN  Reserved\n",
       "\n",
       "[150 rows x 3 columns]"
      ]
     },
     "execution_count": 95,
     "metadata": {},
     "output_type": "execute_result"
    }
   ],
   "source": [
    "proto_to_protocols_df = pd.read_html('https://www.iana.org/assignments/protocol-numbers/protocol-numbers.xhtml', match='Decimal').pop()[['Decimal', 'Protocol', 'Keyword']]\n",
    "proto_to_protocols_df"
   ]
  },
  {
   "cell_type": "markdown",
   "id": "4eb10f61-b8bf-4739-9be6-ae2da10adf43",
   "metadata": {},
   "source": [
    "The `Decimal` column contains the protocol number code, which is number between 0 and 255.\n",
    "\n",
    "We can notice a major problem tho: some protocols doesn't have an unique code, but multiple... for this reason we're going to clean the dataframe with the following funtion."
   ]
  },
  {
   "cell_type": "code",
   "execution_count": 101,
   "id": "712a6405-3cbb-4ec2-9cfe-10a638a6f481",
   "metadata": {},
   "outputs": [],
   "source": [
    "def clear_df(dataframe: pd.DataFrame) -> pd.DataFrame:\n",
    "    \"\"\"A function that search for all the protocols that have multiple decimal code (e.g. 146-252) and then returns\n",
    "    a cleaned version of the dataframe in which those protocols appear one time for each decimal code.\n",
    "\n",
    "    Args:\n",
    "        - dataframe (pd.DataFrame): The original pandas.DataFrame.\n",
    "\n",
    "    Returns:\n",
    "        - df (pd.DataFrame): The cleaned version of 'dataframe'.\n",
    "    \"\"\"\n",
    "    # Get a copy of dataframe\n",
    "    df = dataframe.copy()\n",
    "\n",
    "    # For each protocols that contains '-' in the Decimal column (has multiple Decimal codes)\n",
    "    for prt in dataframe[dataframe.Decimal.str.contains('-')]['Protocol']:\n",
    "        # Get first and last codes\n",
    "        first, last = tuple(map(int, dataframe[dataframe.Protocol == prt].Decimal.item().split('-')))\n",
    "        # Get the Keyword\n",
    "        keyw = dataframe[dataframe.Protocol == prt].Keyword.item()\n",
    "        # Create a temporary pandas.DataFrame with the Protcl repeated for each Decimal code \n",
    "        temp = pd.DataFrame({'Decimal': list(range(first, last+1)),\n",
    "                             'Protocol': prt,\n",
    "                             'Keyword': keyw})\n",
    "        # Remove the Protocol from the original copy\n",
    "        df = df[df.Protocol != prt]\n",
    "        # Concat the temporary dataframe to the copy\n",
    "        df = pd.concat([df, temp], ignore_index=True)\n",
    "    # Set the type of the Decimal column to numeric\n",
    "    df['Decimal'] = df['Decimal'].apply(pd.to_numeric)\n",
    "    # Return the sorted cleaned dataframe\n",
    "    return df.sort_values(by=\"Decimal\", ignore_index=True).set_index('Decimal')"
   ]
  },
  {
   "cell_type": "code",
   "execution_count": 97,
   "id": "655b5adc-f9be-457f-8783-99ba6e4edf08",
   "metadata": {},
   "outputs": [
    {
     "data": {
      "text/html": [
       "<div>\n",
       "<style scoped>\n",
       "    .dataframe tbody tr th:only-of-type {\n",
       "        vertical-align: middle;\n",
       "    }\n",
       "\n",
       "    .dataframe tbody tr th {\n",
       "        vertical-align: top;\n",
       "    }\n",
       "\n",
       "    .dataframe thead th {\n",
       "        text-align: right;\n",
       "    }\n",
       "</style>\n",
       "<table border=\"1\" class=\"dataframe\">\n",
       "  <thead>\n",
       "    <tr style=\"text-align: right;\">\n",
       "      <th></th>\n",
       "      <th>Protocol</th>\n",
       "      <th>Keyword</th>\n",
       "    </tr>\n",
       "    <tr>\n",
       "      <th>Decimal</th>\n",
       "      <th></th>\n",
       "      <th></th>\n",
       "    </tr>\n",
       "  </thead>\n",
       "  <tbody>\n",
       "    <tr>\n",
       "      <th>0</th>\n",
       "      <td>IPv6 Hop-by-Hop Option</td>\n",
       "      <td>HOPOPT</td>\n",
       "    </tr>\n",
       "    <tr>\n",
       "      <th>1</th>\n",
       "      <td>Internet Control Message</td>\n",
       "      <td>ICMP</td>\n",
       "    </tr>\n",
       "    <tr>\n",
       "      <th>2</th>\n",
       "      <td>Internet Group Management</td>\n",
       "      <td>IGMP</td>\n",
       "    </tr>\n",
       "    <tr>\n",
       "      <th>3</th>\n",
       "      <td>Gateway-to-Gateway</td>\n",
       "      <td>GGP</td>\n",
       "    </tr>\n",
       "    <tr>\n",
       "      <th>4</th>\n",
       "      <td>IPv4 encapsulation</td>\n",
       "      <td>IPv4</td>\n",
       "    </tr>\n",
       "    <tr>\n",
       "      <th>...</th>\n",
       "      <td>...</td>\n",
       "      <td>...</td>\n",
       "    </tr>\n",
       "    <tr>\n",
       "      <th>251</th>\n",
       "      <td>Unassigned</td>\n",
       "      <td>NaN</td>\n",
       "    </tr>\n",
       "    <tr>\n",
       "      <th>252</th>\n",
       "      <td>Unassigned</td>\n",
       "      <td>NaN</td>\n",
       "    </tr>\n",
       "    <tr>\n",
       "      <th>253</th>\n",
       "      <td>Use for experimentation and testing</td>\n",
       "      <td>NaN</td>\n",
       "    </tr>\n",
       "    <tr>\n",
       "      <th>254</th>\n",
       "      <td>Use for experimentation and testing</td>\n",
       "      <td>NaN</td>\n",
       "    </tr>\n",
       "    <tr>\n",
       "      <th>255</th>\n",
       "      <td>NaN</td>\n",
       "      <td>Reserved</td>\n",
       "    </tr>\n",
       "  </tbody>\n",
       "</table>\n",
       "<p>256 rows × 2 columns</p>\n",
       "</div>"
      ],
      "text/plain": [
       "                                    Protocol   Keyword\n",
       "Decimal                                               \n",
       "0                     IPv6 Hop-by-Hop Option    HOPOPT\n",
       "1                   Internet Control Message      ICMP\n",
       "2                  Internet Group Management      IGMP\n",
       "3                         Gateway-to-Gateway       GGP\n",
       "4                         IPv4 encapsulation      IPv4\n",
       "...                                      ...       ...\n",
       "251                               Unassigned       NaN\n",
       "252                               Unassigned       NaN\n",
       "253      Use for experimentation and testing       NaN\n",
       "254      Use for experimentation and testing       NaN\n",
       "255                                      NaN  Reserved\n",
       "\n",
       "[256 rows x 2 columns]"
      ]
     },
     "metadata": {},
     "output_type": "display_data"
    }
   ],
   "source": [
    "proto_to_protocols_df = clear_df(proto_to_protocols_df)\n",
    "display(proto_to_protocols_df)"
   ]
  },
  {
   "cell_type": "code",
   "execution_count": 100,
   "id": "3fce36c3-72ea-4f92-b4a9-a380b8907913",
   "metadata": {},
   "outputs": [
    {
     "name": "stdout",
     "output_type": "stream",
     "text": [
      "10 Protocol mostly used\n"
     ]
    },
    {
     "data": {
      "text/html": [
       "<div>\n",
       "<style scoped>\n",
       "    .dataframe tbody tr th:only-of-type {\n",
       "        vertical-align: middle;\n",
       "    }\n",
       "\n",
       "    .dataframe tbody tr th {\n",
       "        vertical-align: top;\n",
       "    }\n",
       "\n",
       "    .dataframe thead th {\n",
       "        text-align: right;\n",
       "    }\n",
       "</style>\n",
       "<table border=\"1\" class=\"dataframe\">\n",
       "  <thead>\n",
       "    <tr style=\"text-align: right;\">\n",
       "      <th></th>\n",
       "      <th>proto</th>\n",
       "      <th>count</th>\n",
       "      <th>Protocol</th>\n",
       "      <th>Keyword</th>\n",
       "    </tr>\n",
       "  </thead>\n",
       "  <tbody>\n",
       "    <tr>\n",
       "      <th>0</th>\n",
       "      <td>6</td>\n",
       "      <td>951956</td>\n",
       "      <td>Transmission Control</td>\n",
       "      <td>TCP</td>\n",
       "    </tr>\n",
       "    <tr>\n",
       "      <th>1</th>\n",
       "      <td>17</td>\n",
       "      <td>35101</td>\n",
       "      <td>User Datagram</td>\n",
       "      <td>UDP</td>\n",
       "    </tr>\n",
       "    <tr>\n",
       "      <th>2</th>\n",
       "      <td>1</td>\n",
       "      <td>12594</td>\n",
       "      <td>Internet Control Message</td>\n",
       "      <td>ICMP</td>\n",
       "    </tr>\n",
       "    <tr>\n",
       "      <th>3</th>\n",
       "      <td>50</td>\n",
       "      <td>245</td>\n",
       "      <td>Encap Security Payload</td>\n",
       "      <td>ESP</td>\n",
       "    </tr>\n",
       "    <tr>\n",
       "      <th>4</th>\n",
       "      <td>97</td>\n",
       "      <td>71</td>\n",
       "      <td>Ethernet-within-IP Encapsulation</td>\n",
       "      <td>ETHERIP</td>\n",
       "    </tr>\n",
       "    <tr>\n",
       "      <th>5</th>\n",
       "      <td>4</td>\n",
       "      <td>24</td>\n",
       "      <td>IPv4 encapsulation</td>\n",
       "      <td>IPv4</td>\n",
       "    </tr>\n",
       "    <tr>\n",
       "      <th>6</th>\n",
       "      <td>89</td>\n",
       "      <td>5</td>\n",
       "      <td>OSPFIGP</td>\n",
       "      <td>OSPFIGP</td>\n",
       "    </tr>\n",
       "    <tr>\n",
       "      <th>7</th>\n",
       "      <td>47</td>\n",
       "      <td>4</td>\n",
       "      <td>Generic Routing Encapsulation</td>\n",
       "      <td>GRE</td>\n",
       "    </tr>\n",
       "  </tbody>\n",
       "</table>\n",
       "</div>"
      ],
      "text/plain": [
       "   proto   count                          Protocol  Keyword\n",
       "0      6  951956              Transmission Control      TCP\n",
       "1     17   35101                     User Datagram      UDP\n",
       "2      1   12594          Internet Control Message     ICMP\n",
       "3     50     245            Encap Security Payload      ESP\n",
       "4     97      71  Ethernet-within-IP Encapsulation  ETHERIP\n",
       "5      4      24                IPv4 encapsulation     IPv4\n",
       "6     89       5                           OSPFIGP  OSPFIGP\n",
       "7     47       4     Generic Routing Encapsulation      GRE"
      ]
     },
     "metadata": {},
     "output_type": "display_data"
    },
    {
     "data": {
      "image/png": "[encoded data removed]",
      "text/plain": [
       "<Figure size 640x480 with 1 Axes>"
      ]
     },
     "metadata": {},
     "output_type": "display_data"
    }
   ],
   "source": [
    "most_used_protocol_10 = (df\n",
    "                        .lazy()\n",
    "                        .groupby(by=\"proto\")\n",
    "                        .count()\n",
    "                        .sort(by=\"count\", descending=True)\n",
    "                        .head(10)).collect()\n",
    "\n",
    "most_used_protocol_10 = pd.merge(most_used_protocol_10.to_pandas(), proto_to_protocols_df, how='left', left_on=\"proto\", right_on=\"Decimal\")\n",
    "\n",
    "print(\"10 Protocol mostly used\")\n",
    "display(most_used_protocol_10)\n",
    "\n",
    "plot = sns.barplot(most_used_protocol_10,\n",
    "                   x=\"count\",\n",
    "                   y=\"Protocol\",\n",
    "                   orient='h',\n",
    "                   order=most_used_protocol_10[\"Protocol\"].to_numpy())\n",
    "plot.set(title=\"10 Protocol mostly used\",\n",
    "         ylabel=\"Protocol\",\n",
    "         xscale=\"log\")\n",
    "sns.despine()\n",
    "plt.show()"
   ]
  },
  {
   "cell_type": "code",
   "execution_count": null,
   "id": "06353383-1b1a-4a61-bc63-6c3dafe906fb",
   "metadata": {},
   "outputs": [],
   "source": []
  }
 ],
 "metadata": {
  "kernelspec": {
   "display_name": ".venv",
   "language": "python",
   "name": ".venv"
  },
  "language_info": {
   "codemirror_mode": {
    "name": "ipython",
    "version": 3
   },
   "file_extension": ".py",
   "mimetype": "text/x-python",
   "name": "python",
   "nbconvert_exporter": "python",
   "pygments_lexer": "ipython3",
   "version": "3.11.3"
  }
 },
 "nbformat": 4,
 "nbformat_minor": 5
}
